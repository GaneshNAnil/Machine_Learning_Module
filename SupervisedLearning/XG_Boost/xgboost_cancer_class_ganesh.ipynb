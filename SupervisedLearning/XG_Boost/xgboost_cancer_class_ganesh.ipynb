{
 "cells": [
  {
   "cell_type": "code",
   "execution_count": 7,
   "metadata": {},
   "outputs": [],
   "source": [
    "# Loading Libraries\n",
    "import pandas as pd\n",
    "from matplotlib import pyplot as plt\n",
    "%matplotlib inline\n",
    "from sklearn.model_selection import train_test_split\n",
    "from sklearn.linear_model import LogisticRegression\n",
    "from sklearn.tree import DecisionTreeClassifier\n",
    "from sklearn.ensemble import RandomForestClassifier\n",
    "from sklearn.ensemble import AdaBoostClassifier\n",
    "from sklearn.ensemble import GradientBoostingClassifier\n",
    "from sklearn.svm import SVC\n",
    "from sklearn.metrics import accuracy_score\n",
    "from xgboost import XGBClassifier\n",
    "from sklearn.model_selection import GridSearchCV"
   ]
  },
  {
   "cell_type": "code",
   "execution_count": 8,
   "metadata": {},
   "outputs": [],
   "source": [
    "data = pd.read_csv(r\"H:\\AI\\librariesforAI\\SupervisedLearning\\Logistic_Regression_multiclass\\breast_cancer_data.csv\")\n",
    "data.drop(['id','Unnamed: 32'],axis=1,inplace=True)\n",
    "# map function for mapping benign into 0 and malignant into 1\n",
    "data['diagnosis'] = data['diagnosis'].map({'B':0,'M':1})\n",
    "\n",
    "X=data.drop(['diagnosis'],axis=1)\n",
    "y=data['diagnosis']\n",
    "\n",
    "X_train, X_test, y_train, y_test = train_test_split(X, y, test_size=0.33,random_state=42)"
   ]
  },
  {
   "cell_type": "code",
   "execution_count": 3,
   "metadata": {},
   "outputs": [
    {
     "name": "stdout",
     "output_type": "stream",
     "text": [
      "Collecting XGboost\n",
      "  Downloading xgboost-1.6.1-py3-none-win_amd64.whl (125.4 MB)\n",
      "Requirement already satisfied: scipy in c:\\users\\hp\\anaconda3\\lib\\site-packages (from XGboost) (1.7.1)\n",
      "Requirement already satisfied: numpy in c:\\users\\hp\\anaconda3\\lib\\site-packages (from XGboost) (1.20.3)\n",
      "Installing collected packages: XGboost\n",
      "Successfully installed XGboost-1.6.1\n"
     ]
    }
   ],
   "source": [
    "! pip install XGboost "
   ]
  },
  {
   "cell_type": "code",
   "execution_count": 9,
   "metadata": {},
   "outputs": [],
   "source": [
    "params = [{\"learning_rate\":[0.05,0.10,0.15,0.20,0.25,0.30],\n",
    "\"max_depth\":[3,4,5,6,8,15],\n",
    "\"min_child_weight\":[1,3,5,7],\n",
    "\"gamma\":[0.0,0.1,0.2,0.3,0.4],\n",
    "\"colsample_bytree\":[0.3,0.4,0.5]}]"
   ]
  },
  {
   "cell_type": "code",
   "execution_count": 10,
   "metadata": {},
   "outputs": [],
   "source": [
    "xgb_clf=XGBClassifier()\n",
    "grid_clf=GridSearchCV(xgb_clf,params,cv=10,scoring=\"accuracy\")\n",
    "grid_clf.fit(X_train,y_train)"
   ]
  },
  {
   "cell_type": "code",
   "execution_count": null,
   "metadata": {},
   "outputs": [],
   "source": [
    "#!ls \"/content/drive/My Drive\"\n"
   ]
  }
 ],
 "metadata": {
  "kernelspec": {
   "display_name": "Python 3.9.7 ('base')",
   "language": "python",
   "name": "python3"
  },
  "language_info": {
   "codemirror_mode": {
    "name": "ipython",
    "version": 3
   },
   "file_extension": ".py",
   "mimetype": "text/x-python",
   "name": "python",
   "nbconvert_exporter": "python",
   "pygments_lexer": "ipython3",
   "version": "3.9.7"
  },
  "orig_nbformat": 4,
  "vscode": {
   "interpreter": {
    "hash": "dc07d24e2f18896857f0b2a651fe84ba40ce7b297e58d8804a308c8039f752a6"
   }
  }
 },
 "nbformat": 4,
 "nbformat_minor": 2
}
