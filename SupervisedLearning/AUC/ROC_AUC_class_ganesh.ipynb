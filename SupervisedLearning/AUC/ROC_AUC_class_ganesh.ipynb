{
 "cells": [
  {
   "cell_type": "code",
   "execution_count": 21,
   "metadata": {},
   "outputs": [],
   "source": [
    "# Loading Libraries\n",
    "import numpy as np\n",
    "import pandas as pd\n",
    "from matplotlib import pyplot as plt\n",
    "%matplotlib inline\n",
    "from sklearn.model_selection import train_test_split\n",
    "from sklearn.linear_model import LogisticRegression\n",
    "from sklearn.ensemble import RandomForestClassifier\n",
    "from sklearn.ensemble import AdaBoostClassifier\n",
    "from sklearn.neighbors import KNeighborsClassifier\n",
    "from sklearn.metrics import accuracy_score"
   ]
  },
  {
   "cell_type": "code",
   "execution_count": 22,
   "metadata": {},
   "outputs": [],
   "source": [
    "data = pd.read_csv(r\"H:\\AI\\librariesforAI\\SupervisedLearning\\Logistic_Regression_multiclass\\breast_cancer_data.csv\")\n",
    "data.drop(['id','Unnamed: 32'],axis=1,inplace=True)\n",
    "# map function for mapping benign into 0 and malignant into 1\n",
    "data['diagnosis'] = data['diagnosis'].map({'B':0,'M':1})\n",
    "\n",
    "X=data.drop(['diagnosis'],axis=1)\n",
    "y=data['diagnosis']\n",
    "\n",
    "X_train, X_test, y_train, y_test = train_test_split(X, y, test_size=0.33,random_state=42)"
   ]
  },
  {
   "cell_type": "code",
   "execution_count": 23,
   "metadata": {},
   "outputs": [],
   "source": [
    "from sklearn.metrics import roc_auc_score\n",
    "from sklearn.metrics import roc_curve"
   ]
  },
  {
   "cell_type": "code",
   "execution_count": 24,
   "metadata": {},
   "outputs": [
    {
     "name": "stdout",
     "output_type": "stream",
     "text": [
      "RF training ROC- AUC Accuarcy is : 1.0\n",
      "RF test ROC- AUC Accuarcy is : 0.9971629456025657\n"
     ]
    }
   ],
   "source": [
    "#Random Forest Model\n",
    "rf_model=RandomForestClassifier()\n",
    "rf_model.fit(X_train,y_train)\n",
    "y_train_pred=rf_model.predict_proba(X_train)\n",
    "\n",
    "print(f\"RF training ROC- AUC Accuarcy is : {roc_auc_score(y_train,y_train_pred[:,1])}\")\n",
    "ytest_prob = rf_model.predict_proba(X_test)\n",
    "print(f\"RF test ROC- AUC Accuarcy is : {roc_auc_score(y_test,ytest_prob[:,1])}\")"
   ]
  },
  {
   "cell_type": "code",
   "execution_count": 25,
   "metadata": {},
   "outputs": [
    {
     "name": "stdout",
     "output_type": "stream",
     "text": [
      "Logisictic Regression training ROC- AUC Accuarcy is : 0.9931326709526593\n",
      "Logisictic Regression test ROC- AUC Accuarcy is : 0.9974096459849513\n"
     ]
    },
    {
     "name": "stderr",
     "output_type": "stream",
     "text": [
      "c:\\Users\\HP\\anaconda3\\lib\\site-packages\\sklearn\\linear_model\\_logistic.py:444: ConvergenceWarning: lbfgs failed to converge (status=1):\n",
      "STOP: TOTAL NO. of ITERATIONS REACHED LIMIT.\n",
      "\n",
      "Increase the number of iterations (max_iter) or scale the data as shown in:\n",
      "    https://scikit-learn.org/stable/modules/preprocessing.html\n",
      "Please also refer to the documentation for alternative solver options:\n",
      "    https://scikit-learn.org/stable/modules/linear_model.html#logistic-regression\n",
      "  n_iter_i = _check_optimize_result(\n"
     ]
    }
   ],
   "source": [
    "log_model=LogisticRegression()\n",
    "log_model.fit(X_train,y_train)\n",
    "y_train_pred=log_model.predict_proba(X_train)\n",
    "\n",
    "print(f\"Logisictic Regression training ROC- AUC Accuarcy is : {roc_auc_score(y_train,y_train_pred[:,1])}\")\n",
    "ytest_prob = log_model.predict_proba(X_test)\n",
    "print(f\"Logisictic Regression test ROC- AUC Accuarcy is : {roc_auc_score(y_test,ytest_prob[:,1])}\")"
   ]
  },
  {
   "cell_type": "code",
   "execution_count": 26,
   "metadata": {},
   "outputs": [
    {
     "name": "stdout",
     "output_type": "stream",
     "text": [
      "AdaBoostClassifier training ROC- AUC Accuarcy is : 1.0\n",
      "AdaBoostClassifier test ROC- AUC Accuarcy is : 0.9861847785864069\n"
     ]
    }
   ],
   "source": [
    "adaboost_model=AdaBoostClassifier()\n",
    "adaboost_model.fit(X_train,y_train)\n",
    "y_train_pred=adaboost_model.predict_proba(X_train)\n",
    "\n",
    "print(f\"AdaBoostClassifier training ROC- AUC Accuarcy is : {roc_auc_score(y_train,y_train_pred[:,1])}\")\n",
    "ytest_prob = adaboost_model.predict_proba(X_test)\n",
    "print(f\"AdaBoostClassifier test ROC- AUC Accuarcy is : {roc_auc_score(y_test,ytest_prob[:,1])}\")"
   ]
  },
  {
   "cell_type": "code",
   "execution_count": 27,
   "metadata": {},
   "outputs": [
    {
     "name": "stdout",
     "output_type": "stream",
     "text": [
      "AdaBoostClassifier training ROC- AUC Accuarcy is : 0.9851548801870251\n",
      "AdaBoostClassifier test ROC- AUC Accuarcy is : 0.9929690391020106\n"
     ]
    }
   ],
   "source": [
    "KNN_model=KNeighborsClassifier()\n",
    "KNN_model.fit(X_train,y_train)\n",
    "y_train_pred=KNN_model.predict_proba(X_train)\n",
    "\n",
    "print(f\"AdaBoostClassifier training ROC- AUC Accuarcy is : {roc_auc_score(y_train,y_train_pred[:,1])}\")\n",
    "ytest_prob = KNN_model.predict_proba(X_test)\n",
    "print(f\"AdaBoostClassifier test ROC- AUC Accuarcy is : {roc_auc_score(y_test,ytest_prob[:,1])}\")"
   ]
  },
  {
   "cell_type": "code",
   "execution_count": 28,
   "metadata": {},
   "outputs": [],
   "source": [
    "pred =[]\n",
    "for model in [rf_model,log_model,adaboost_model,KNN_model]:\n",
    "   pred.append(pd.Series(model.predict_proba(X_test)[:,1]))\n",
    "\n",
    "final_prediction = pd.concat(pred,axis=1).mean(axis=1)"
   ]
  },
  {
   "cell_type": "code",
   "execution_count": 29,
   "metadata": {},
   "outputs": [
    {
     "data": {
      "text/plain": [
       "0      0.259818\n",
       "1      0.956190\n",
       "2      0.914020\n",
       "3      0.101351\n",
       "4      0.051947\n",
       "         ...   \n",
       "183    0.900136\n",
       "184    0.941012\n",
       "185    0.819813\n",
       "186    0.568793\n",
       "187    0.101815\n",
       "Length: 188, dtype: float64"
      ]
     },
     "execution_count": 29,
     "metadata": {},
     "output_type": "execute_result"
    }
   ],
   "source": [
    "final_prediction"
   ]
  },
  {
   "cell_type": "code",
   "execution_count": 30,
   "metadata": {},
   "outputs": [],
   "source": [
    "#calculate the ROC curve \n",
    "fpr, tpr, thresholds = roc_curve(y_test,final_prediction)"
   ]
  },
  {
   "cell_type": "code",
   "execution_count": 31,
   "metadata": {},
   "outputs": [
    {
     "data": {
      "text/plain": [
       "array([1.9617185 , 0.9617185 , 0.59075879, 0.56879331, 0.53307627,\n",
       "       0.50882326, 0.49379419, 0.32393299, 0.32086827, 0.05194693])"
      ]
     },
     "execution_count": 31,
     "metadata": {},
     "output_type": "execute_result"
    }
   ],
   "source": [
    "thresholds"
   ]
  },
  {
   "cell_type": "code",
   "execution_count": 32,
   "metadata": {},
   "outputs": [],
   "source": [
    "accuracy_ls=[]\n",
    "\n",
    "for thres in thresholds:\n",
    "    y_pred = np.where(final_prediction>thres,1,0)\n",
    "    accuracy_ls.append(accuracy_score(y_test,y_pred))"
   ]
  },
  {
   "cell_type": "code",
   "execution_count": 33,
   "metadata": {},
   "outputs": [],
   "source": [
    "acc_list = pd.concat([pd.Series(thresholds),pd.Series(accuracy_ls)],axis=1)\n",
    "acc_list.columns =['Threshold','Accuracy']\n",
    "acc_list.sort_values(by='Accuracy',ascending=False,inplace=True)\n"
   ]
  },
  {
   "cell_type": "code",
   "execution_count": 34,
   "metadata": {},
   "outputs": [
    {
     "data": {
      "text/html": [
       "<div>\n",
       "<style scoped>\n",
       "    .dataframe tbody tr th:only-of-type {\n",
       "        vertical-align: middle;\n",
       "    }\n",
       "\n",
       "    .dataframe tbody tr th {\n",
       "        vertical-align: top;\n",
       "    }\n",
       "\n",
       "    .dataframe thead th {\n",
       "        text-align: right;\n",
       "    }\n",
       "</style>\n",
       "<table border=\"1\" class=\"dataframe\">\n",
       "  <thead>\n",
       "    <tr style=\"text-align: right;\">\n",
       "      <th></th>\n",
       "      <th>Threshold</th>\n",
       "      <th>Accuracy</th>\n",
       "    </tr>\n",
       "  </thead>\n",
       "  <tbody>\n",
       "    <tr>\n",
       "      <th>3</th>\n",
       "      <td>0.568793</td>\n",
       "      <td>0.984043</td>\n",
       "    </tr>\n",
       "    <tr>\n",
       "      <th>5</th>\n",
       "      <td>0.508823</td>\n",
       "      <td>0.984043</td>\n",
       "    </tr>\n",
       "    <tr>\n",
       "      <th>2</th>\n",
       "      <td>0.590759</td>\n",
       "      <td>0.978723</td>\n",
       "    </tr>\n",
       "    <tr>\n",
       "      <th>4</th>\n",
       "      <td>0.533076</td>\n",
       "      <td>0.978723</td>\n",
       "    </tr>\n",
       "    <tr>\n",
       "      <th>6</th>\n",
       "      <td>0.493794</td>\n",
       "      <td>0.978723</td>\n",
       "    </tr>\n",
       "    <tr>\n",
       "      <th>7</th>\n",
       "      <td>0.323933</td>\n",
       "      <td>0.952128</td>\n",
       "    </tr>\n",
       "    <tr>\n",
       "      <th>8</th>\n",
       "      <td>0.320868</td>\n",
       "      <td>0.946809</td>\n",
       "    </tr>\n",
       "    <tr>\n",
       "      <th>0</th>\n",
       "      <td>1.961719</td>\n",
       "      <td>0.643617</td>\n",
       "    </tr>\n",
       "    <tr>\n",
       "      <th>1</th>\n",
       "      <td>0.961719</td>\n",
       "      <td>0.643617</td>\n",
       "    </tr>\n",
       "    <tr>\n",
       "      <th>9</th>\n",
       "      <td>0.051947</td>\n",
       "      <td>0.361702</td>\n",
       "    </tr>\n",
       "  </tbody>\n",
       "</table>\n",
       "</div>"
      ],
      "text/plain": [
       "   Threshold  Accuracy\n",
       "3   0.568793  0.984043\n",
       "5   0.508823  0.984043\n",
       "2   0.590759  0.978723\n",
       "4   0.533076  0.978723\n",
       "6   0.493794  0.978723\n",
       "7   0.323933  0.952128\n",
       "8   0.320868  0.946809\n",
       "0   1.961719  0.643617\n",
       "1   0.961719  0.643617\n",
       "9   0.051947  0.361702"
      ]
     },
     "execution_count": 34,
     "metadata": {},
     "output_type": "execute_result"
    }
   ],
   "source": [
    "acc_list"
   ]
  },
  {
   "cell_type": "code",
   "execution_count": null,
   "metadata": {},
   "outputs": [],
   "source": []
  }
 ],
 "metadata": {
  "kernelspec": {
   "display_name": "Python 3.9.7 ('base')",
   "language": "python",
   "name": "python3"
  },
  "language_info": {
   "codemirror_mode": {
    "name": "ipython",
    "version": 3
   },
   "file_extension": ".py",
   "mimetype": "text/x-python",
   "name": "python",
   "nbconvert_exporter": "python",
   "pygments_lexer": "ipython3",
   "version": "3.9.7"
  },
  "orig_nbformat": 4,
  "vscode": {
   "interpreter": {
    "hash": "dc07d24e2f18896857f0b2a651fe84ba40ce7b297e58d8804a308c8039f752a6"
   }
  }
 },
 "nbformat": 4,
 "nbformat_minor": 2
}
