{
 "cells": [
  {
   "cell_type": "code",
   "execution_count": 1,
   "metadata": {},
   "outputs": [],
   "source": [
    "import pandas as pd\n",
    "import numpy as np\n",
    "import matplotlib.pyplot as plt\n",
    "import seaborn as sns"
   ]
  },
  {
   "cell_type": "code",
   "execution_count": 2,
   "metadata": {},
   "outputs": [],
   "source": [
    "def categorical_fetaure(data,columns,fill_type,approach,data_frame):\n",
    "    print(\"Missing Values BEFORE REMOVAL in \",data_frame,\" data\")\n",
    "    display(data.isnull().sum())\n",
    "    \n",
    "    for column in columns:\n",
    "\n",
    "        if \"Nominal Encoding\" in fill_type:\n",
    "            if \"OneHot Encoding\" in approach:\n",
    "                data[column].dropna(inplace=True)\n",
    "                pd.get_dummies(data,drop_first=True)\n",
    "            if \"OneHot Encoding with many categories\" in approach:\n",
    "                from sklearn.preprocessing import OneHotEncoder\n",
    "                ohe=OneHotEncoder()\n",
    "                updated_df=ohe.fit_transform(data[column])\n",
    "                pd.DataFrame(updated_df,columns=data.columns)\n",
    "            if \"Mean Encoding\" in fill_type:\n",
    "                mean_ordinal=data.groupby(column).mean().to_dict()\n",
    "                data['mean_ordinal_encode']=data[column].map(mean_ordinal)\n",
    "\n",
    "        if \"Ordinal Encoding\" in fill_type:\n",
    "            if \"Label Encoding\" in approach:\n",
    "                from sklearn.preprocessing import LabelEncoder\n",
    "                label_encoder=LabelEncoder()\n",
    "                new_df=label_encoder.fit_transform(data[column])\n",
    "                pd.DataFrame(new_df,columns=data.column)\n",
    "            # if \"Target guided Ordinal Encoding\" in approach:\n",
    "\n",
    "\n",
    "    print(\"Missing Values AFTER REMOVAL in \",data_frame,\" data\")\n",
    "    display(data.isnull().sum())\n",
    "    return(data)\n",
    "                \n",
    "        "
   ]
  },
  {
   "cell_type": "code",
   "execution_count": null,
   "metadata": {},
   "outputs": [],
   "source": []
  }
 ],
 "metadata": {
  "interpreter": {
   "hash": "dc07d24e2f18896857f0b2a651fe84ba40ce7b297e58d8804a308c8039f752a6"
  },
  "kernelspec": {
   "display_name": "Python 3.9.7 ('base')",
   "language": "python",
   "name": "python3"
  },
  "language_info": {
   "codemirror_mode": {
    "name": "ipython",
    "version": 3
   },
   "file_extension": ".py",
   "mimetype": "text/x-python",
   "name": "python",
   "nbconvert_exporter": "python",
   "pygments_lexer": "ipython3",
   "version": "3.9.7"
  },
  "orig_nbformat": 4
 },
 "nbformat": 4,
 "nbformat_minor": 2
}
